{
 "cells": [
  {
   "cell_type": "markdown",
   "metadata": {},
   "source": [
    "## Environment Setup\n",
    "\n",
    "The tutorials use data science notebooks with several RAPIDS GPU systems, primarily through BlazingSQL.\n",
    "\n",
    "\n",
    "### RAPIDS-capable notebook environment\n",
    "  * **Free**: Sign up for BlazingSQL Notebooks at app.blazingsql.com and clone this repository\n",
    "  * **Private cloud**: See [BlazingSQL.com](BlazingSQL.com) AWS AMI and [Graphistry.com](Graphistry.com/get-started) AWS+Azure AMIs for a fast start, which ship with ecosystem dependencies, packages, and notebooks preconfigured\n",
    "  * **On-prem**: Graphistry-provided [RAPIDS ecosystem Docker images](https://hub.docker.com/r/graphistry/graphistry-forge-base): \n",
    "    * Install Nvidia drivers and set Nvidia runtime for Docker\n",
    "    * `docker run -it graphistry/graphistry-forge-base:latest`\n",
    "    * `source activate rapids`\n",
    "    * `conda install -c conda-forge jupyterlab`\n",
    "\n",
    "### Get these notebooks: \n",
    "\n",
    "  * `! git clone https://github.com/RAPIDSAcademy/rapidsacademy.git`\n",
    "\n",
    "### Test\n",
    "\n",
    "  See [previous session test instructions](../..//security/tour/setup.ipynb)"
   ]
  },
  {
   "cell_type": "code",
   "execution_count": null,
   "metadata": {},
   "outputs": [],
   "source": []
  }
 ],
 "metadata": {
  "kernelspec": {
   "display_name": "RAPIDS Nightly",
   "language": "python",
   "name": "python3"
  },
  "language_info": {
   "codemirror_mode": {
    "name": "ipython",
    "version": 3
   },
   "file_extension": ".py",
   "mimetype": "text/x-python",
   "name": "python",
   "nbconvert_exporter": "python",
   "pygments_lexer": "ipython3",
   "version": "3.7.6"
  }
 },
 "nbformat": 4,
 "nbformat_minor": 4
}
