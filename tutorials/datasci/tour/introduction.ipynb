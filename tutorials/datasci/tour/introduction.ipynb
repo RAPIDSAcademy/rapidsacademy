{
 "cells": [
  {
   "cell_type": "markdown",
   "metadata": {},
   "source": [
    "# RAPIDS DATA SCIENCE 1: THE TOUR\n",
    "\n",
    "**Guest Instructor**\n",
    "\n",
    "Rodrigo Aramburu ([BlazingSQL.com](https://www.blazingsql.com) founder)\n",
    "\n",
    "\n",
    "**About**\n",
    "\n",
    "The second RAPIDS Academy live stream and lab shares how to get going with Python data science on GPUs:\n",
    "* Learn about the RAPIDS ecosystem and its interconnected components\n",
    "* Deep dive into the cuDF DataFrame and how to manipulate with a SQL and Pandas API\n",
    "* Build data visualizations, machine learning workflows, and ETL pipelines with RAPIDS on GPUs\n",
    "* Tech: Includes Python Jupyter notebooks, cuDF, cuML, BlazingSQL, Dask, Datashader, cuXFilter, and Matplotlib\n",
    "\n",
    "## Instructions\n",
    "\n",
    "* Get and prepare your GPU RAPIDS environment: [setup.ipynb](setup.ipynb)\n",
    "* Learn: Watch the 40min live stream [recording](https://www.youtube.com/channel/UCq3xirW77NvGvA1fNDMuJbQ)\n",
    "* The lab: Run and modify the cells of\n",
    "  1. [Dataframes with bsql](the_dataframe.ipynb)\n",
    "  1. [Plotting](data_visualization.ipynb)\n",
    "  1. Try the GPU monitoring dashboard (Jupyter Lab) as you go along\n",
    "* Extra:\n",
    "  1. [Machine Learning with cuML](machine_learning.ipynb)\n",
    "  1. [Inspect your runtime logs](bsql_logs.ipynb)\n",
    "\n",
    "## After\n",
    "\n",
    "Check out [RAPIDS Academy](https://www.LearnRAPIDS.com) for past and upcoming sessions, schedule your own training, and join the community on [Twitter](https://twitter.com/academyrapids) and the [RAPIDS Slack](https://rapids.ai/community)\n",
    "\n",
    "**Links**\n",
    "* [RAPIDS Academy homepage](https://www.LearnRAPIDS.com)\n",
    "* [RAPIDS Academy GitHub](https://github.com/rapidsacademy)\n",
    "* [YouTube channel](https://www.youtube.com/channel/UCq3xirW77NvGvA1fNDMuJbQ)\n",
    "\n"
   ]
  },
  {
   "cell_type": "code",
   "execution_count": null,
   "metadata": {},
   "outputs": [],
   "source": []
  }
 ],
 "metadata": {
  "kernelspec": {
   "display_name": "RAPIDS Stable",
   "language": "python",
   "name": "rapids-stable"
  },
  "language_info": {
   "codemirror_mode": {
    "name": "ipython",
    "version": 3
   },
   "file_extension": ".py",
   "mimetype": "text/x-python",
   "name": "python",
   "nbconvert_exporter": "python",
   "pygments_lexer": "ipython3",
   "version": "3.7.6"
  }
 },
 "nbformat": 4,
 "nbformat_minor": 4
}
