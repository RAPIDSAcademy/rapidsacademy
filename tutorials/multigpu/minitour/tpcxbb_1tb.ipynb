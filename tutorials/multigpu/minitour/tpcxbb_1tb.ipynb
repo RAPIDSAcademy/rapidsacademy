{
 "cells": [
  {
   "cell_type": "code",
   "execution_count": 4,
   "metadata": {},
   "outputs": [
    {
     "name": "stderr",
     "output_type": "stream",
     "text": [
      "/home/christian/miniconda3/envs/bsql/lib/python3.8/site-packages/distributed/node.py:151: UserWarning: Port 8787 is already in use.\n",
      "Perhaps you already have a cluster running?\n",
      "Hosting the HTTP server on port 45741 instead\n",
      "  warnings.warn(\n"
     ]
    },
    {
     "name": "stdout",
     "output_type": "stream",
     "text": [
      "BlazingContext ready\n"
     ]
    }
   ],
   "source": [
    "from blazingsql import BlazingContext\n",
    "from dask_cuda import LocalCUDACluster\n",
    "from dask.distributed import Client\n",
    "\n",
    "cluster = LocalCUDACluster(CUDA_VISIBLE_DEVICES=range(0,8))\n",
    "client = Client(cluster)\n",
    "bc = BlazingContext(dask_client=client, network_interface='ib0')"
   ]
  },
  {
   "cell_type": "code",
   "execution_count": 3,
   "metadata": {},
   "outputs": [],
   "source": [
    "data_dir = \"/raid/tpcx-bb/sf1000/parquet_1gb/\" # 1K"
   ]
  },
  {
   "cell_type": "markdown",
   "metadata": {},
   "source": [
    "## Q12"
   ]
  },
  {
   "cell_type": "code",
   "execution_count": 6,
   "metadata": {},
   "outputs": [],
   "source": [
    "q12_i_category_IN = \"'Books', 'Electronics'\""
   ]
  },
  {
   "cell_type": "code",
   "execution_count": 7,
   "metadata": {},
   "outputs": [],
   "source": [
    "bc.create_table(\"web_clickstreams\", data_dir + \"/web_clickstreams/*.parquet\")\n",
    "bc.create_table(\"store_sales\", data_dir + \"/store_sales/*.parquet\")\n",
    "bc.create_table(\"item\", data_dir + \"/item/*.parquet\")"
   ]
  },
  {
   "cell_type": "code",
   "execution_count": 8,
   "metadata": {},
   "outputs": [],
   "source": [
    "query = f\"\"\"\n",
    "    SELECT DISTINCT wcs_user_sk\n",
    "    FROM\n",
    "    (\n",
    "        SELECT DISTINCT\n",
    "            wcs_user_sk,\n",
    "            wcs_click_date_sk\n",
    "        FROM web_clickstreams, item\n",
    "        WHERE wcs_click_date_sk BETWEEN 37134 AND 37164\n",
    "        AND i_category IN ({q12_i_category_IN})\n",
    "        AND wcs_item_sk = i_item_sk\n",
    "        AND wcs_user_sk IS NOT NULL\n",
    "        AND wcs_sales_sk IS NULL\n",
    "    ) webInRange,\n",
    "    (\n",
    "        SELECT DISTINCT\n",
    "            ss_customer_sk,\n",
    "            ss_sold_date_sk\n",
    "        FROM store_sales, item\n",
    "        WHERE ss_sold_date_sk BETWEEN 37134 AND 37224\n",
    "        AND i_category IN ({q12_i_category_IN})\n",
    "        AND ss_item_sk = i_item_sk\n",
    "        AND ss_customer_sk IS NOT NULL\n",
    "    ) storeInRange\n",
    "    WHERE wcs_user_sk = ss_customer_sk\n",
    "    AND wcs_click_date_sk < ss_sold_date_sk\n",
    "    ORDER BY wcs_user_sk\n",
    "\"\"\"\n",
    "result = bc.sql(query)"
   ]
  },
  {
   "cell_type": "code",
   "execution_count": 9,
   "metadata": {},
   "outputs": [
    {
     "data": {
      "text/html": [
       "<div>\n",
       "<style scoped>\n",
       "    .dataframe tbody tr th:only-of-type {\n",
       "        vertical-align: middle;\n",
       "    }\n",
       "\n",
       "    .dataframe tbody tr th {\n",
       "        vertical-align: top;\n",
       "    }\n",
       "\n",
       "    .dataframe thead th {\n",
       "        text-align: right;\n",
       "    }\n",
       "</style>\n",
       "<table border=\"1\" class=\"dataframe\">\n",
       "  <thead>\n",
       "    <tr style=\"text-align: right;\">\n",
       "      <th></th>\n",
       "      <th>wcs_user_sk</th>\n",
       "    </tr>\n",
       "  </thead>\n",
       "  <tbody>\n",
       "    <tr>\n",
       "      <th>0</th>\n",
       "      <td>2</td>\n",
       "    </tr>\n",
       "    <tr>\n",
       "      <th>1</th>\n",
       "      <td>164</td>\n",
       "    </tr>\n",
       "    <tr>\n",
       "      <th>2</th>\n",
       "      <td>394</td>\n",
       "    </tr>\n",
       "    <tr>\n",
       "      <th>3</th>\n",
       "      <td>623</td>\n",
       "    </tr>\n",
       "    <tr>\n",
       "      <th>4</th>\n",
       "      <td>650</td>\n",
       "    </tr>\n",
       "  </tbody>\n",
       "</table>\n",
       "</div>"
      ],
      "text/plain": [
       "   wcs_user_sk\n",
       "0            2\n",
       "1          164\n",
       "2          394\n",
       "3          623\n",
       "4          650"
      ]
     },
     "execution_count": 9,
     "metadata": {},
     "output_type": "execute_result"
    }
   ],
   "source": [
    "result.head()"
   ]
  },
  {
   "cell_type": "markdown",
   "metadata": {},
   "source": [
    "## Q21"
   ]
  },
  {
   "cell_type": "code",
   "execution_count": 10,
   "metadata": {},
   "outputs": [],
   "source": [
    "bc.create_table(\"store_sales\", data_dir + \"/store_sales/*.parquet\")\n",
    "bc.create_table(\"date_dim\", data_dir + \"/date_dim/*.parquet\")\n",
    "bc.create_table(\"item\", data_dir + \"/item/*.parquet\")\n",
    "bc.create_table(\"web_sales\", data_dir + \"/web_sales/*.parquet\")\n",
    "bc.create_table(\"store_returns\", data_dir + \"/store_returns/*.parquet\")\n",
    "bc.create_table(\"store\", data_dir + \"/store/*.parquet\")"
   ]
  },
  {
   "cell_type": "code",
   "execution_count": 11,
   "metadata": {},
   "outputs": [],
   "source": [
    "query = \"\"\"\n",
    "    SELECT\n",
    "        part_i.i_item_id AS i_item_id,\n",
    "        part_i.i_item_desc AS i_item_desc,\n",
    "        part_s.s_store_id AS s_store_id,\n",
    "        part_s.s_store_name AS s_store_name,\n",
    "        CAST(SUM(part_ss.ss_quantity) AS BIGINT) AS store_sales_quantity,\n",
    "        CAST(SUM(part_sr.sr_return_quantity) AS BIGINT) AS store_returns_quantity,\n",
    "        CAST(SUM(part_ws.ws_quantity) AS BIGINT) AS web_sales_quantity\n",
    "    FROM \n",
    "    (\n",
    "        SELECT\n",
    "            sr_item_sk,\n",
    "            sr_customer_sk,\n",
    "            sr_ticket_number,\n",
    "            sr_return_quantity\n",
    "        FROM\n",
    "            store_returns sr,\n",
    "            date_dim d2\n",
    "        WHERE d2.d_year = 2003\n",
    "        AND d2.d_moy BETWEEN 1 AND 7 --which were returned in the next six months\n",
    "        AND sr.sr_returned_date_sk = d2.d_date_sk\n",
    "    ) part_sr\n",
    "    INNER JOIN \n",
    "    (\n",
    "        SELECT\n",
    "            ws_item_sk,\n",
    "            ws_bill_customer_sk,\n",
    "            ws_quantity\n",
    "        FROM\n",
    "            web_sales ws,\n",
    "            date_dim d3\n",
    "        -- in the following three years (re-purchased by the returning customer afterwards through the web sales channel)\n",
    "        WHERE d3.d_year BETWEEN 2003 AND 2005 \n",
    "        AND ws.ws_sold_date_sk = d3.d_date_sk\n",
    "    ) part_ws ON \n",
    "    (\n",
    "        part_sr.sr_item_sk = part_ws.ws_item_sk\n",
    "        AND part_sr.sr_customer_sk = part_ws.ws_bill_customer_sk\n",
    "    ) INNER JOIN \n",
    "    (\n",
    "        SELECT\n",
    "            ss_item_sk,\n",
    "            ss_store_sk,\n",
    "            ss_customer_sk,\n",
    "            ss_ticket_number,\n",
    "            ss_quantity\n",
    "        FROM\n",
    "            store_sales ss,\n",
    "            date_dim d1\n",
    "        WHERE d1.d_year = 2003\n",
    "        AND d1.d_moy = 1\n",
    "        AND ss.ss_sold_date_sk = d1.d_date_sk\n",
    "    ) part_ss ON \n",
    "    (\n",
    "        part_ss.ss_ticket_number = part_sr.sr_ticket_number\n",
    "        AND part_ss.ss_item_sk = part_sr.sr_item_sk\n",
    "        AND part_ss.ss_customer_sk = part_sr.sr_customer_sk\n",
    "    )\n",
    "    INNER JOIN store part_s ON \n",
    "    (\n",
    "        part_s.s_store_sk = part_ss.ss_store_sk\n",
    "    )\n",
    "    INNER JOIN item part_i ON \n",
    "    (\n",
    "        part_i.i_item_sk = part_ss.ss_item_sk\n",
    "    )\n",
    "    GROUP BY\n",
    "        part_i.i_item_id,\n",
    "        part_i.i_item_desc,\n",
    "        part_s.s_store_id,\n",
    "        part_s.s_store_name\n",
    "    ORDER BY\n",
    "        part_i.i_item_id,\n",
    "        part_i.i_item_desc,\n",
    "        part_s.s_store_id,\n",
    "        part_s.s_store_name\n",
    "    LIMIT 100\n",
    "\"\"\"\n",
    "result = bc.sql(query)"
   ]
  },
  {
   "cell_type": "code",
   "execution_count": 12,
   "metadata": {},
   "outputs": [
    {
     "data": {
      "text/html": [
       "<div>\n",
       "<style scoped>\n",
       "    .dataframe tbody tr th:only-of-type {\n",
       "        vertical-align: middle;\n",
       "    }\n",
       "\n",
       "    .dataframe tbody tr th {\n",
       "        vertical-align: top;\n",
       "    }\n",
       "\n",
       "    .dataframe thead th {\n",
       "        text-align: right;\n",
       "    }\n",
       "</style>\n",
       "<table border=\"1\" class=\"dataframe\">\n",
       "  <thead>\n",
       "    <tr style=\"text-align: right;\">\n",
       "      <th></th>\n",
       "      <th>i_item_id</th>\n",
       "      <th>i_item_desc</th>\n",
       "      <th>s_store_id</th>\n",
       "      <th>s_store_name</th>\n",
       "      <th>store_sales_quantity</th>\n",
       "      <th>store_returns_quantity</th>\n",
       "      <th>web_sales_quantity</th>\n",
       "    </tr>\n",
       "  </thead>\n",
       "  <tbody>\n",
       "    <tr>\n",
       "      <th>0</th>\n",
       "      <td>AAAAAAAAAAAAABBT</td>\n",
       "      <td>tithes can thrash ruthlessly permanent warthog...</td>\n",
       "      <td>AAAAAAAAAAAAAAAI</td>\n",
       "      <td>Williamstown</td>\n",
       "      <td>95</td>\n",
       "      <td>95</td>\n",
       "      <td>41</td>\n",
       "    </tr>\n",
       "    <tr>\n",
       "      <th>1</th>\n",
       "      <td>AAAAAAAAAAAAAFIE</td>\n",
       "      <td>sly quick warthogs should engage idle quick pl...</td>\n",
       "      <td>AAAAAAAAAAAAAAAF</td>\n",
       "      <td>Egypt</td>\n",
       "      <td>22</td>\n",
       "      <td>21</td>\n",
       "      <td>17</td>\n",
       "    </tr>\n",
       "    <tr>\n",
       "      <th>2</th>\n",
       "      <td>AAAAAAAAAAAAAGWB</td>\n",
       "      <td>idle stealthy pinto beans beside the slowly th...</td>\n",
       "      <td>AAAAAAAAAAAAAAAK</td>\n",
       "      <td>Avalon</td>\n",
       "      <td>26</td>\n",
       "      <td>12</td>\n",
       "      <td>45</td>\n",
       "    </tr>\n",
       "    <tr>\n",
       "      <th>3</th>\n",
       "      <td>AAAAAAAAAAAAAJXF</td>\n",
       "      <td>idle Tiresias' detect? enticing excuses use sl...</td>\n",
       "      <td>AAAAAAAAAAAAAAAB</td>\n",
       "      <td>Hillside</td>\n",
       "      <td>68</td>\n",
       "      <td>47</td>\n",
       "      <td>77</td>\n",
       "    </tr>\n",
       "    <tr>\n",
       "      <th>4</th>\n",
       "      <td>AAAAAAAAAAAAAOUQ</td>\n",
       "      <td>stealthily quick foxes shall thrash blithe bli...</td>\n",
       "      <td>AAAAAAAAAAAAAAAG</td>\n",
       "      <td>Bloomfield</td>\n",
       "      <td>306</td>\n",
       "      <td>198</td>\n",
       "      <td>377</td>\n",
       "    </tr>\n",
       "  </tbody>\n",
       "</table>\n",
       "</div>"
      ],
      "text/plain": [
       "          i_item_id                                        i_item_desc  \\\n",
       "0  AAAAAAAAAAAAABBT  tithes can thrash ruthlessly permanent warthog...   \n",
       "1  AAAAAAAAAAAAAFIE  sly quick warthogs should engage idle quick pl...   \n",
       "2  AAAAAAAAAAAAAGWB  idle stealthy pinto beans beside the slowly th...   \n",
       "3  AAAAAAAAAAAAAJXF  idle Tiresias' detect? enticing excuses use sl...   \n",
       "4  AAAAAAAAAAAAAOUQ  stealthily quick foxes shall thrash blithe bli...   \n",
       "\n",
       "         s_store_id  s_store_name  store_sales_quantity  \\\n",
       "0  AAAAAAAAAAAAAAAI  Williamstown                    95   \n",
       "1  AAAAAAAAAAAAAAAF         Egypt                    22   \n",
       "2  AAAAAAAAAAAAAAAK        Avalon                    26   \n",
       "3  AAAAAAAAAAAAAAAB      Hillside                    68   \n",
       "4  AAAAAAAAAAAAAAAG    Bloomfield                   306   \n",
       "\n",
       "   store_returns_quantity  web_sales_quantity  \n",
       "0                      95                  41  \n",
       "1                      21                  17  \n",
       "2                      12                  45  \n",
       "3                      47                  77  \n",
       "4                     198                 377  "
      ]
     },
     "execution_count": 12,
     "metadata": {},
     "output_type": "execute_result"
    }
   ],
   "source": [
    "result.head()"
   ]
  },
  {
   "cell_type": "code",
   "execution_count": null,
   "metadata": {},
   "outputs": [],
   "source": []
  }
 ],
 "metadata": {
  "kernelspec": {
   "display_name": "Python 3",
   "language": "python",
   "name": "python3"
  },
  "language_info": {
   "codemirror_mode": {
    "name": "ipython",
    "version": 3
   },
   "file_extension": ".py",
   "mimetype": "text/x-python",
   "name": "python",
   "nbconvert_exporter": "python",
   "pygments_lexer": "ipython3",
   "version": "3.8.3"
  }
 },
 "nbformat": 4,
 "nbformat_minor": 4
}
