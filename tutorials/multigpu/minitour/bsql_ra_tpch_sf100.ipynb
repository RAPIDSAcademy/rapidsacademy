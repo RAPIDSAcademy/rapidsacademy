{
 "cells": [
  {
   "cell_type": "markdown",
   "metadata": {},
   "source": [
    "# TPC-H 100GB Demo Notebook\n",
    "\n",
    "### Create BlazingSQL Context"
   ]
  },
  {
   "cell_type": "code",
   "execution_count": null,
   "metadata": {},
   "outputs": [],
   "source": [
    "from blazingsql import BlazingContext\n",
    "bc = BlazingContext(\n",
    "    pool=True,\n",
    "    \n",
    "    config_options={\"BLAZING_DEVICE_MEM_RESOURCE_CONSUMPTION_THRESHOLD\":.1}\n",
    ")"
   ]
  },
  {
   "cell_type": "markdown",
   "metadata": {},
   "source": [
    "### Register S3 Bucket to BlazingSQL"
   ]
  },
  {
   "cell_type": "code",
   "execution_count": null,
   "metadata": {},
   "outputs": [],
   "source": [
    "# register AWS S3 bucket\n",
    "bc.s3('bsql_data', bucket_name='blazingsql-colab')\n"
   ]
  },
  {
   "cell_type": "markdown",
   "metadata": {},
   "source": [
    "### Create Tables for SF100 TPC-H"
   ]
  },
  {
   "cell_type": "code",
   "execution_count": null,
   "metadata": {},
   "outputs": [],
   "source": [
    "%%time\n",
    "bc.create_table('orders', 's3://bsql_data/tpch_sf100/orders/')\n",
    "\n",
    "bc.create_table('lineitem', 's3://bsql_data/tpch_sf100/lineitem/')\n",
    "\n",
    "bc.create_table('customer', 's3://bsql_data/tpch_sf100/customer/')\n",
    "\n",
    "bc.create_table('part', 's3://bsql_data/tpch_sf100/part/')\n",
    "\n",
    "bc.create_table('partsupp', 's3://bsql_data/tpch_sf100/partsupp/')\n",
    "\n",
    "bc.create_table('supplier', 's3://bsql_data/tpch_sf100/supplier/')\n",
    "\n",
    "bc.create_table('nation', 's3://bsql_data/tpch_sf1/nation/')\n",
    "\n",
    "bc.create_table('region', 's3://bsql_data/tpch_sf1/region/')"
   ]
  },
  {
   "cell_type": "code",
   "execution_count": null,
   "metadata": {},
   "outputs": [],
   "source": [
    "%%time\n",
    "# Q3\n",
    "\n",
    "query = \"\"\"\n",
    "    select\n",
    "        l_orderkey,\n",
    "        sum(l_extendedprice*(1-l_discount)) as revenue,\n",
    "        o_orderdate,\n",
    "        o_shippriority\n",
    "    from\n",
    "        customer,\n",
    "        orders,\n",
    "        lineitem\n",
    "    where\n",
    "        c_mktsegment = 'BUILDING'\n",
    "        and c_custkey = o_custkey\n",
    "        and l_orderkey = o_orderkey\n",
    "        and o_orderdate < date '1995-03-15'\n",
    "        and l_shipdate > date '1995-03-15'\n",
    "    group by\n",
    "        l_orderkey,\n",
    "        o_orderdate,\n",
    "        o_shippriority\n",
    "    order by\n",
    "        revenue desc,\n",
    "        o_orderdate\n",
    "\"\"\"\n",
    "print(bc.explain(query))\n",
    "bc.sql(query)"
   ]
  },
  {
   "cell_type": "code",
   "execution_count": null,
   "metadata": {},
   "outputs": [],
   "source": [
    "%%time\n",
    "# Q4\n",
    "query = \"\"\" \n",
    "     select\n",
    "         o_orderpriority, \n",
    "         count(*) as order_count\n",
    "     from\n",
    "         orders\n",
    "     where\n",
    "         exists (\n",
    "             select\n",
    "                 *\n",
    "             from\n",
    "                 lineitem\n",
    "             where\n",
    "                 l_orderkey = o_orderkey\n",
    "                 and l_commitdate < l_receiptdate\n",
    "                 )\n",
    "     group by\n",
    "         o_orderpriority\n",
    "     order by\n",
    "         o_orderpriority\n",
    "         \"\"\"\n",
    "print(bc.explain(query))\n",
    "bc.sql(query)"
   ]
  },
  {
   "cell_type": "code",
   "execution_count": null,
   "metadata": {},
   "outputs": [],
   "source": [
    "%%time\n",
    "# Q6\n",
    "query = \"\"\"\n",
    "     select\n",
    "         sum(l_extendedprice*l_discount) as revenue\n",
    "     from\n",
    "         lineitem\n",
    "     where\n",
    "         l_shipdate >= date '1994-01-01' \n",
    "         and l_shipdate < date '1995-01-01'\n",
    "         and l_discount between 0.05 and 0.07 \n",
    "         and l_quantity < 24\n",
    "         \"\"\"\n",
    "# run query\n",
    "print(bc.explain(query))\n",
    "bc.sql(query)"
   ]
  },
  {
   "cell_type": "code",
   "execution_count": null,
   "metadata": {},
   "outputs": [],
   "source": [
    "bc.log(\"select * from bsql_queries where ral_id = 0\")"
   ]
  },
  {
   "cell_type": "code",
   "execution_count": null,
   "metadata": {},
   "outputs": [],
   "source": []
  }
 ],
 "metadata": {
  "kernelspec": {
   "display_name": "RAPIDS Nightly",
   "language": "python",
   "name": "python3"
  },
  "language_info": {
   "codemirror_mode": {
    "name": "ipython",
    "version": 3
   },
   "file_extension": ".py",
   "mimetype": "text/x-python",
   "name": "python",
   "nbconvert_exporter": "python",
   "pygments_lexer": "ipython3",
   "version": "3.7.6"
  }
 },
 "nbformat": 4,
 "nbformat_minor": 4
}
