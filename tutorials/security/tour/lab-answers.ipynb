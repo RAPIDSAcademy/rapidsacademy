{
 "cells": [
  {
   "cell_type": "markdown",
   "metadata": {},
   "source": [
    "### Task 1a: Load the data... without leaking GPU memory"
   ]
  },
  {
   "cell_type": "markdown",
   "metadata": {},
   "source": [
    "#### 1a. Task"
   ]
  },
  {
   "cell_type": "code",
   "execution_count": null,
   "metadata": {},
   "outputs": [],
   "source": [
    "%%time\n",
    "\n",
    "gdf = cudf.read_csv('./conn5M.log')\n",
    "\n",
    "print(gdf.tail(3))"
   ]
  },
  {
   "cell_type": "markdown",
   "metadata": {},
   "source": [
    "About 600MB of GPU memory should have been freed after running `gdf = None`"
   ]
  },
  {
   "cell_type": "markdown",
   "metadata": {},
   "source": [
    "### Task 1b: Load 500MB"
   ]
  },
  {
   "cell_type": "markdown",
   "metadata": {},
   "source": [
    "#### 1b. Task"
   ]
  },
  {
   "cell_type": "code",
   "execution_count": null,
   "metadata": {
    "scrolled": true
   },
   "outputs": [],
   "source": [
    "%%time\n",
    "\n",
    "gdf = cudf.read_csv('./conn1K.log', sep='\\t')\n",
    "\n",
    "print(gdf.head(3))\n",
    "\n",
    "gdf = None"
   ]
  },
  {
   "cell_type": "markdown",
   "metadata": {},
   "source": [
    "### Task 1c: Format & load 2.6GB"
   ]
  },
  {
   "cell_type": "markdown",
   "metadata": {},
   "source": [
    "#### 1c. Task"
   ]
  },
  {
   "cell_type": "code",
   "execution_count": null,
   "metadata": {},
   "outputs": [],
   "source": [
    "%%time\n",
    "\n",
    "gdf = None\n",
    "! nvidia-smi\n",
    "\n",
    "\n",
    "gdf = cudf.read_csv('./conn1K.log',  sep='\\t',\n",
    "    names=cols,\n",
    "    dtypes=dtypes,\n",
    "    usecols=cols_subset,\n",
    "    na_values=['-', '-','(empty)'])\n",
    "\n",
    "\n",
    "! nvidia-smi\n",
    "print(gdf.dtypes)\n",
    "print(gdf.head(3))\n",
    "gdf = None"
   ]
  },
  {
   "cell_type": "markdown",
   "metadata": {},
   "source": [
    "* Load all columns with native types: 2.6 GB file => 3.4 GB in-GPU-memory\n",
    "* ... just the subset: 2.4 GB"
   ]
  },
  {
   "cell_type": "markdown",
   "metadata": {},
   "source": [
    "## Task 2. Analytics & Wrangling"
   ]
  },
  {
   "cell_type": "markdown",
   "metadata": {},
   "source": [
    "### Task 2a: Column manipulation"
   ]
  },
  {
   "cell_type": "markdown",
   "metadata": {},
   "source": [
    "#### 2a. Task"
   ]
  },
  {
   "cell_type": "code",
   "execution_count": null,
   "metadata": {},
   "outputs": [],
   "source": [
    "%%time\n",
    "\n",
    "### id.resp_h unique value count\n",
    "\n",
    "gdf = cudf.read_csv('./conn.log', \n",
    "              sep='\\t', \n",
    "              names=cols,\n",
    "              dtypes=dtypes,\n",
    "              usecols=['id.resp_h'],\n",
    "              na_values=['-', '-','(empty)'])\n",
    "\n",
    "unique_resp_ips = gdf['id.resp_h'].unique()\n",
    "\n",
    "print('# unique', len(unique_resp_ips))\n",
    "\n",
    "print(unique_resp_ips[:10])\n",
    "\n",
    "unique_resp_ips = None\n",
    "gdf = None"
   ]
  },
  {
   "cell_type": "markdown",
   "metadata": {},
   "source": [
    "**Advanced**"
   ]
  },
  {
   "cell_type": "code",
   "execution_count": null,
   "metadata": {},
   "outputs": [],
   "source": [
    "%%time\n",
    "\n",
    "### col orig_bytes max\n",
    "\n",
    "gdf = cudf.read_csv('./conn.log', \n",
    "              sep='\\t', \n",
    "              names=cols,\n",
    "              dtypes=dtypes,\n",
    "              usecols=['orig_bytes'],\n",
    "              na_values=['-', '-','(empty)'])\n",
    "\n",
    "mx = gdf['orig_bytes'].max()\n",
    "\n",
    "print('max orig_bytes', mx)\n",
    "\n",
    "gdf = None"
   ]
  },
  {
   "cell_type": "markdown",
   "metadata": {},
   "source": [
    "### Task 2b: Group by & column summaries"
   ]
  },
  {
   "cell_type": "markdown",
   "metadata": {},
   "source": [
    "#### 2b. Task"
   ]
  },
  {
   "cell_type": "code",
   "execution_count": null,
   "metadata": {},
   "outputs": [],
   "source": [
    "%%time\n",
    "\n",
    "gdf = cudf.read_csv('./conn.log', \n",
    "              sep='\\t', \n",
    "              names=cols,\n",
    "              dtypes=dtypes,\n",
    "              usecols=cols_subset,\n",
    "              na_values=['-', '-','(empty)'])\n",
    "\n",
    "out = gdf.groupby(['id.resp_h', 'id.orig_h'])\\\n",
    "    .agg({\n",
    "        'ts': ['count', 'min', 'max', 'mean'],\n",
    "        'uid': 'nunique',\n",
    "        'id.resp_p': ['min', 'max', 'nunique'],\n",
    "        'proto': ['nunique'],\n",
    "        'duration': ['min', 'max', 'mean', 'sum'],\n",
    "        'orig_bytes': ['min', 'max', 'mean', 'sum'],\n",
    "        'resp_bytes': ['min', 'max', 'mean', 'sum'],\n",
    "    }).reset_index()\n",
    "\n",
    "\n",
    "gdf = None\n",
    "print(out.shape)\n",
    "print(out.dtypes)\n",
    "print(out.head(3))\n",
    "out = None"
   ]
  },
  {
   "cell_type": "markdown",
   "metadata": {},
   "source": [
    "**Advanced**"
   ]
  },
  {
   "cell_type": "code",
   "execution_count": null,
   "metadata": {},
   "outputs": [],
   "source": [
    "%%time\n",
    "\n",
    "gdf = cudf.read_csv('./conn1K.log', \n",
    "              sep='\\t', \n",
    "              names=cols,\n",
    "              dtypes=dtypes,\n",
    "              usecols=cols_subset,\n",
    "              na_values=['-', '-','(empty)'])\n",
    "\n",
    "\n",
    "gdf = gdf[ gdf['id.resp_p'] == 22 ]\n",
    "\n",
    "\n",
    "out = gdf.groupby(['id.resp_h', 'id.orig_h'])\\\n",
    "    .agg({\n",
    "        'duration': ['max'],\n",
    "        'resp_bytes': ['sum']\n",
    "    }).reset_index()\n",
    "\n",
    "\n",
    "gdf = None\n",
    "print('longest: ',\n",
    "      out.sort_values(by='duration', ascending=False).head(1))\n",
    "print('biggest: ',\n",
    "      out.sort_values(by='resp_bytes', ascending=False).head(1))\n",
    "out = None"
   ]
  },
  {
   "cell_type": "markdown",
   "metadata": {},
   "source": [
    "## Task 3: Visualize!"
   ]
  },
  {
   "cell_type": "markdown",
   "metadata": {},
   "source": [
    "### Task 3b: Map SSH activity"
   ]
  },
  {
   "cell_type": "markdown",
   "metadata": {},
   "source": [
    "#### 3b. Task"
   ]
  },
  {
   "cell_type": "code",
   "execution_count": null,
   "metadata": {},
   "outputs": [],
   "source": [
    "def compute_groupby2(file='./conn1K.log'):\n",
    "\n",
    "    gdf = cudf.read_csv(file, \n",
    "                  sep='\\t', \n",
    "                  names=cols,\n",
    "                  dtypes=dtypes,\n",
    "                  usecols=cols_subset,\n",
    "                  na_values=['-', '-','(empty)'])\n",
    "    \n",
    "    gdf = gdf[ gdf['id.resp_p'] == 22 ]\n",
    "\n",
    "    out = gdf.groupby(['id.resp_h', 'id.orig_h'])\\\n",
    "        .agg({\n",
    "            'ts': ['count', 'min', 'max', 'mean'],\n",
    "            'uid': 'nunique',\n",
    "            'id.resp_p': ['min', 'max', 'nunique'],\n",
    "            'proto': ['nunique'],\n",
    "            'duration': ['min', 'max', 'mean', 'sum'],\n",
    "            'orig_bytes': ['min', 'max', 'mean', 'sum'],\n",
    "            'resp_bytes': ['min', 'max', 'mean', 'sum'],\n",
    "        }).reset_index()\n",
    "\n",
    "\n",
    "    ########### Data cleaning: normal column names and times as actual timestamps\n",
    "\n",
    "    out.columns = out.columns.to_flat_index() # -> col_name = (col, stat)\n",
    "    out.columns = [ '%s_%s' % c for c in out.columns ]\n",
    "\n",
    "    out = out.rename(columns={\n",
    "        'id.resp_h_': 'id.resp_h',\n",
    "        'id.orig_h_': 'id.orig_h',\n",
    "    })\n",
    "\n",
    "    out['ts_min'] = cudf.Series(pd.to_datetime((out['ts_min']*1000000000).to_pandas()))\n",
    "    out['ts_max'] = cudf.Series(pd.to_datetime((out['ts_max']*1000000000).to_pandas()))\n",
    "    out['ts_mean'] = cudf.Series(pd.to_datetime((out['ts_mean']*1000000000).to_pandas()))\n",
    "    \n",
    "    return out"
   ]
  },
  {
   "cell_type": "code",
   "execution_count": null,
   "metadata": {},
   "outputs": [],
   "source": []
  }
 ],
 "metadata": {
  "kernelspec": {
   "display_name": "RAPIDS Stable",
   "language": "python",
   "name": "rapids-stable"
  },
  "language_info": {
   "codemirror_mode": {
    "name": "ipython",
    "version": 3
   },
   "file_extension": ".py",
   "mimetype": "text/x-python",
   "name": "python",
   "nbconvert_exporter": "python",
   "pygments_lexer": "ipython3",
   "version": "3.7.6"
  }
 },
 "nbformat": 4,
 "nbformat_minor": 4
}
