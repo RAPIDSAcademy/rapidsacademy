{
 "cells": [
  {
   "cell_type": "markdown",
   "metadata": {},
   "source": [
    "## Environment setup\n",
    "\n",
    "The tutorials use data science notebooks with several RAPIDS GPU systems: cudf, cuml, cugraph, blazingsql, and graphistry.\n",
    "\n",
    "For free GPU time for educational purposes:\n",
    "\n",
    "1. **RAPIDS-capable notebook environment**\n",
    "* Sign up for [BlazingSQL Notebooks at app.blazingsql.com](https://app.blazingsql.com) and clone this repository\n",
    "* Alternative: [Launch RAPIDS.ai starter in Google Colab](https://rapids.ai/start.html) and copy in this notebook\n",
    "  * **Warning**: Google Colab does not support BlazingSQL, which is required for Tutorial 1\n",
    "* Alternative: Run your own private RAPIDS.ai environment (cloud or local), which come prepackaged by BlazingSQL and [Graphistry](https://www.graphistry.com/get-started) AMIs for the dependencies here, or without via the core RAPIDS.ai site.\n",
    "\n",
    "2. **Get the notebooks**: `! git clone https://github.com/RAPIDSAcademy/rapidsacademy.git`\n",
    "\n",
    "3. **Graphistry viz server**\n",
    "Get a free Graphistry cloud account at [Graphistry Hub](https://www.graphistry.com/get-started) or [self-host in AWS/Azure](https://www.graphistry.com/get-started)"
   ]
  },
  {
   "cell_type": "markdown",
   "metadata": {},
   "source": [
    "## Dependencies\n",
    "\n",
    "These may already be installed, you can check with the below tests.\n",
    "\n",
    "If not already installed, uncomment & run the commands below as needed, restart your Jupyter kernel, then comment them out again."
   ]
  },
  {
   "cell_type": "code",
   "execution_count": null,
   "metadata": {},
   "outputs": [],
   "source": [
    "# ! conda install -c blazingsql-nightly/label/cuda10.0 -c blazingsql-nightly -c rapidsai-nightly -c conda-forge -c defaults blazingsql python=3.7"
   ]
  },
  {
   "cell_type": "code",
   "execution_count": null,
   "metadata": {},
   "outputs": [],
   "source": [
    "#! pip install --user -q graphistry"
   ]
  },
  {
   "cell_type": "code",
   "execution_count": null,
   "metadata": {},
   "outputs": [],
   "source": [
    "#! echo '{\"key\": \"zzz\"}' > graphistry.json"
   ]
  },
  {
   "cell_type": "markdown",
   "metadata": {},
   "source": [
    "## Test"
   ]
  },
  {
   "cell_type": "code",
   "execution_count": 1,
   "metadata": {},
   "outputs": [],
   "source": [
    "import json, pandas as pd"
   ]
  },
  {
   "cell_type": "code",
   "execution_count": 2,
   "metadata": {},
   "outputs": [
    {
     "name": "stdout",
     "output_type": "stream",
     "text": [
      "Tue Jul 14 17:22:14 2020       \n",
      "+-----------------------------------------------------------------------------+\n",
      "| NVIDIA-SMI 440.100      Driver Version: 440.100      CUDA Version: 10.2     |\n",
      "|-------------------------------+----------------------+----------------------+\n",
      "| GPU  Name        Persistence-M| Bus-Id        Disp.A | Volatile Uncorr. ECC |\n",
      "| Fan  Temp  Perf  Pwr:Usage/Cap|         Memory-Usage | GPU-Util  Compute M. |\n",
      "|===============================+======================+======================|\n",
      "|   0  Tesla T4            Off  | 00000000:00:1E.0 Off |                    0 |\n",
      "| N/A   68C    P0    32W /  70W |   1579MiB / 15109MiB |      0%      Default |\n",
      "+-------------------------------+----------------------+----------------------+\n",
      "                                                                               \n",
      "+-----------------------------------------------------------------------------+\n",
      "| Processes:                                                       GPU Memory |\n",
      "|  GPU       PID   Type   Process name                             Usage      |\n",
      "|=============================================================================|\n",
      "+-----------------------------------------------------------------------------+\n"
     ]
    }
   ],
   "source": [
    "! nvidia-smi"
   ]
  },
  {
   "cell_type": "code",
   "execution_count": 3,
   "metadata": {},
   "outputs": [
    {
     "data": {
      "text/plain": [
       "'0.14.0'"
      ]
     },
     "execution_count": 3,
     "metadata": {},
     "output_type": "execute_result"
    }
   ],
   "source": [
    "import cudf, cuml, cugraph\n",
    "cudf.__version__"
   ]
  },
  {
   "cell_type": "code",
   "execution_count": 4,
   "metadata": {},
   "outputs": [
    {
     "name": "stdout",
     "output_type": "stream",
     "text": [
      "BlazingContext ready\n"
     ]
    }
   ],
   "source": [
    "from blazingsql import BlazingContext\n",
    "bc = BlazingContext()"
   ]
  },
  {
   "cell_type": "code",
   "execution_count": null,
   "metadata": {},
   "outputs": [],
   "source": [
    "### Get free Graphistry Hub account & creds at https://www.graphistry.com/get-started\n",
    "### First run: set to True and fill in creds\n",
    "### Future runs: set to False and erase your creds\n",
    "### When done: delete graphistry.json\n",
    "if False:\n",
    "    #creds = {'token': '...'}\n",
    "    creds = {'username': '***', 'password': '***'}\n",
    "    with open('graphistry.json', 'w') as outfile:\n",
    "        json.dump(creds, outfile)\n",
    "with open('graphistry.json') as f:\n",
    "    creds = json.load(f)\n",
    "\n",
    "graphistry.register(\n",
    "    api=3, key='', protocol='https', server='hub.graphistry.com', \n",
    "    **creds)\n",
    "\n",
    "graphistry.__version__"
   ]
  },
  {
   "cell_type": "code",
   "execution_count": null,
   "metadata": {},
   "outputs": [],
   "source": []
  }
 ],
 "metadata": {
  "kernelspec": {
   "display_name": "RAPIDS Stable",
   "language": "python",
   "name": "rapids-stable"
  },
  "language_info": {
   "codemirror_mode": {
    "name": "ipython",
    "version": 3
   },
   "file_extension": ".py",
   "mimetype": "text/x-python",
   "name": "python",
   "nbconvert_exporter": "python",
   "pygments_lexer": "ipython3",
   "version": "3.7.6"
  }
 },
 "nbformat": 4,
 "nbformat_minor": 4
}
